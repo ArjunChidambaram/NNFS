{
 "cells": [
  {
   "cell_type": "markdown",
   "metadata": {},
   "source": [
    "# Importing Package"
   ]
  },
  {
   "cell_type": "code",
   "execution_count": 1,
   "metadata": {},
   "outputs": [],
   "source": [
    "import sys\n",
    "import numpy as np \n",
    "import matplotlib\n",
    "import time"
   ]
  },
  {
   "cell_type": "markdown",
   "metadata": {},
   "source": [
    "### Matrix multiplication of multiple input for one layer "
   ]
  },
  {
   "cell_type": "code",
   "execution_count": 25,
   "metadata": {},
   "outputs": [
    {
     "name": "stdout",
     "output_type": "stream",
     "text": [
      "[[ 4.8    1.21   2.385]\n",
      " [ 8.9   -1.81   0.2  ]\n",
      " [ 1.41   1.051  0.026]]\n"
     ]
    }
   ],
   "source": [
    "inputs = [[ 1.0, 2.0, 3.0, 2.5],\n",
    "          [ 2.0, 5.0,-1.0, 2.0],\n",
    "          [-1.5, 2.7, 3.3,-0.8]]\n",
    "\n",
    "weights =[[ 0.2 ,  0.8 ,-0.5 , 1.0 ],\n",
    "          [ 0.5 , -0.91, 0.26,-0.5 ],\n",
    "          [-0.26, -0.27, 0.17, 0.87]]\n",
    "\n",
    "biases = [2,3,0.5]\n",
    "\n",
    "output = np.dot(np.array(inputs),np.array(weights).T) + np.array(biases)\n",
    "\n",
    "print(output)"
   ]
  },
  {
   "cell_type": "markdown",
   "metadata": {},
   "source": [
    "### Multilayer Matrix multiplication"
   ]
  },
  {
   "cell_type": "code",
   "execution_count": 27,
   "metadata": {},
   "outputs": [
    {
     "data": {
      "text/plain": [
       "array([[ 0.5031 , -1.04185, -1.45495],\n",
       "       [ 0.2434 , -2.7332 , -5.657  ],\n",
       "       [-0.99314,  1.41254, -0.38132]])"
      ]
     },
     "execution_count": 27,
     "metadata": {},
     "output_type": "execute_result"
    }
   ],
   "source": [
    "inputs = [[ 1.0, 2.0, 3.0, 2.5],\n",
    "          [ 2.0, 5.0,-1.0, 2.0],\n",
    "          [-1.5, 2.7, 3.3,-0.8]]\n",
    "\n",
    "weights1=[[ 0.2 ,  0.8 ,-0.5 , 1.0 ],\n",
    "          [ 0.5 , -0.91, 0.26,-0.5 ],\n",
    "          [-0.26, -0.27, 0.17, 0.87]]\n",
    "\n",
    "weights2=[[ 0.1 , -0.14, 0.5 ],\n",
    "          [-0.5 ,  0.12,-0.33],\n",
    "          [-0.44,  0.70, 0.13]]\n",
    "\n",
    "biases1 = [ 2 ,3, 0.5]\n",
    "biases2 = [-1 ,2,-0.5]\n",
    "\n",
    "layer1 = np.dot(np.array(inputs),np.array(weights1).T)+biases1\n",
    "layer2 = np.dot(layer1,np.array(weights2).T)+biases2\n",
    "layer2"
   ]
  },
  {
   "cell_type": "markdown",
   "metadata": {},
   "source": [
    "### Making a class"
   ]
  },
  {
   "cell_type": "code",
   "execution_count": 36,
   "metadata": {},
   "outputs": [],
   "source": [
    "x=[[ 1.0, 2.0, 3.0, 2.5],\n",
    "   [ 2.0, 5.0,-1.0, 2.0],\n",
    "   [-1.5, 2.7, 3.3,-0.8]]\n",
    "\n",
    "np.random.seed(0)\n",
    "\n",
    "class Layer_dense:\n",
    "    def __init__(self,n_inputs,n_neurons):\n",
    "        self.weights = 0.01*np.random.randn(n_inputs,n_neurons)\n",
    "        self.bias    = np.zeros((1,n_neurons))\n",
    "    def forward(self,inputs):\n",
    "        self.output = np.dot(inputs,self.weights) + self.bias\n",
    "        \n",
    "layer1= Layer_dense(4,5)\n",
    "layer2= Layer_dense(5,1)\n",
    "\n",
    "layer1.forward(x)\n",
    "layer2.forward(layer1.output)"
   ]
  },
  {
   "cell_type": "code",
   "execution_count": 37,
   "metadata": {},
   "outputs": [
    {
     "data": {
      "text/plain": [
       "array([[0.00080817],\n",
       "       [0.00117231],\n",
       "       [0.0020913 ]])"
      ]
     },
     "execution_count": 37,
     "metadata": {},
     "output_type": "execute_result"
    }
   ],
   "source": [
    "layer2.output"
   ]
  },
  {
   "cell_type": "code",
   "execution_count": null,
   "metadata": {},
   "outputs": [],
   "source": []
  }
 ],
 "metadata": {
  "kernelspec": {
   "display_name": "Python 3",
   "language": "python",
   "name": "python3"
  },
  "language_info": {
   "codemirror_mode": {
    "name": "ipython",
    "version": 3
   },
   "file_extension": ".py",
   "mimetype": "text/x-python",
   "name": "python",
   "nbconvert_exporter": "python",
   "pygments_lexer": "ipython3",
   "version": "3.7.7"
  }
 },
 "nbformat": 4,
 "nbformat_minor": 4
}
